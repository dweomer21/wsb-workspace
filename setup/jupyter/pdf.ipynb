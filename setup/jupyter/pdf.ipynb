{
 "cells": [
  {
   "cell_type": "markdown",
   "id": "f4b3a44b-e06a-4bae-8714-47b1fb79a560",
   "metadata": {},
   "source": [
    "# Analyze PDF\n",
    "\n",
    "This notebook helps with investigations of PDF files."
   ]
  },
  {
   "cell_type": "code",
   "execution_count": null,
   "id": "f7178a76-3a8d-42db-8c04-f664fa7103d9",
   "metadata": {
    "jupyter": {
     "source_hidden": true
    }
   },
   "outputs": [],
   "source": [
    "# imports\n",
    "import glob\n",
    "import subprocess\n",
    "from pathlib import Path"
   ]
  },
  {
   "cell_type": "code",
   "execution_count": null,
   "id": "788c9cfb-32ad-493e-822b-116e345e1c59",
   "metadata": {
    "jupyter": {
     "source_hidden": true
    }
   },
   "outputs": [],
   "source": [
    "# Check pdf files with pdfid.py and pdf-parser.py\n",
    "for pdf in glob.glob('C:\\\\Users\\\\WDAGUtilityAccount\\\\Desktop\\\\readonly\\\\*.pdf'):\n",
    "    print(100*\"#\")\n",
    "    print(\"Analyzing file:\", pdf)\n",
    "    print(100*\"#\")\n",
    "    print(\"\")\n",
    "    print(\"pdfid.py\")\n",
    "    result = subprocess.run([\"C:\\Tools\\DidierStevens\\pdfid.py\", pdf], capture_output=True, shell=True)\n",
    "    print(result.stdout.decode(\"utf-8\", errors='backslashreplace'))\n",
    "    print(\"\")\n",
    "    print(\"pdf-parser.py\")\n",
    "    result = subprocess.run([\"C:\\Tools\\DidierStevens\\pdf-parser.py\", pdf], capture_output=True, shell=True)\n",
    "    print(result.stdout.decode(\"utf-8\", errors='backslashreplace'))\n",
    "    if Path(\"C:\\Sandsprite\\PDFStreamDumper\\PDFStreamDumper.exe\").is_file():\n",
    "        subprocess.Popen([\"C:\\Sandsprite\\PDFStreamDumper\\PDFStreamDumper.exe\", pdf])\n",
    "    print(\"\")"
   ]
  }
 ],
 "metadata": {
  "kernelspec": {
   "display_name": "Python 3 (ipykernel)",
   "language": "python",
   "name": "python3"
  },
  "language_info": {
   "codemirror_mode": {
    "name": "ipython",
    "version": 3
   },
   "file_extension": ".py",
   "mimetype": "text/x-python",
   "name": "python",
   "nbconvert_exporter": "python",
   "pygments_lexer": "ipython3",
   "version": "3.11.6"
  }
 },
 "nbformat": 4,
 "nbformat_minor": 5
}

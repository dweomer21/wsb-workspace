{
 "cells": [
  {
   "cell_type": "markdown",
   "id": "764afbec-a0f8-4271-839b-f89e73ef759d",
   "metadata": {},
   "source": [
    "# Analyze PE\n",
    "\n",
    "This notebook helps with investigations of EF files \n",
    "\n",
    "## Usage\n",
    "\n",
    "You should have the suspicious file in the readonly directory mounted on the Desktop. The suspicious file should be in a password protected 7-Zip file with the password *infected*.\n",
    "\n",
    "The suspicious file is unpacked to a created directory on the *Desktop* named *Investigations/files*. Then **capa** is run in normal mode to create a report on the the file. After that **capa** is run again to output the the results in `JSON` format and with the results in a file named with the same name as the suspicious file with an added extension of *.capa.json*. Last the file is imported to a projected named *Investigations* in **Ghidra**. The project directory is located under *C:/Users/WDAGUtilityAccount/Ghidra*.\n",
    "\n",
    "For information on how to import the result in the **capa** `JSON` file into Ghidra read more in the wiki.."
   ]
  },
  {
   "cell_type": "code",
   "execution_count": null,
   "id": "8a880aa4-6e50-4dcb-bce8-06648674da22",
   "metadata": {},
   "outputs": [],
   "source": [
    "# Imports\n",
    "from common import execute7z, READONLY\n",
    "import magic\n",
    "import subprocess\n",
    "from pathlib import Path"
   ]
  },
  {
   "cell_type": "code",
   "execution_count": null,
   "id": "931479fc-5860-4283-9e38-e802ec6a0786",
   "metadata": {},
   "outputs": [],
   "source": [
    "# Create directory for extracted files\n",
    "if not Path(\"C:/Users/WDAGUtilityAccount/Desktop/Investigations\").is_dir():\n",
    "    Path(\"C:/Users/WDAGUtilityAccount/Desktop/Investigations\").mkdir()\n",
    "    Path(\"C:/Users/WDAGUtilityAccount/Desktop/Investigations/files\").mkdir()\n",
    "    Path(\"C:/Users/WDAGUtilityAccount/Desktop/Investigations/json\").mkdir()"
   ]
  },
  {
   "cell_type": "code",
   "execution_count": null,
   "id": "550bbaa9-4a4f-4a0b-ab22-7f357e3d36f7",
   "metadata": {},
   "outputs": [],
   "source": [
    "# Extract files\n",
    "for suspicious_zip in Path(READONLY).glob(\"*.7z\"):\n",
    "    process = execute7z(suspicious_zip, \"infected\", \"C:/Users/WDAGUtilityAccount/Desktop/Investigations/files\")\n",
    "    if process == 0:\n",
    "        print(\"Extracted files from:\", suspicious_zip)\n",
    "    else:\n",
    "        print(\"Failed to extract file\")"
   ]
  },
  {
   "cell_type": "code",
   "execution_count": null,
   "id": "383afa39-7793-43d6-9b3a-6f035f0b484f",
   "metadata": {},
   "outputs": [],
   "source": [
    "# Check file type\n",
    "for suspicious_file in Path(\"C:/Users/WDAGUtilityAccount/Desktop/Investigations/files/\").glob(\"*.*\"):\n",
    "    print(suspicious_file, end=\": \")\n",
    "    print(magic.from_file(str(suspicious_file)))"
   ]
  },
  {
   "cell_type": "code",
   "execution_count": null,
   "id": "332d5dcf-a23b-4693-826d-9532628a5b5d",
   "metadata": {},
   "outputs": [],
   "source": [
    "# Run capa on files\n",
    "for suspicious_file in Path(\"C:/Users/WDAGUtilityAccount/Desktop/Investigations/files/\").glob(\"*.*\"):\n",
    "    capa_result = subprocess.run([\"capa.exe\", suspicious_file], shell=True, stdout=subprocess.PIPE)\n",
    "    print(capa_result.stdout.decode('utf-8'))"
   ]
  },
  {
   "cell_type": "code",
   "execution_count": null,
   "id": "dcb19842-a185-4187-b1c0-be451729171e",
   "metadata": {},
   "outputs": [],
   "source": [
    "# Run capa on files with json output\n",
    "for suspicious_file in Path(\"C:/Users/WDAGUtilityAccount/Desktop/Investigations/files/\").glob(\"*.*\"):\n",
    "    capa_result = subprocess.run([\"capa-ghidra.exe\", \"-j\", suspicious_file], shell=True, stdout=subprocess.PIPE)\n",
    "    with open(str(suspicious_file).replace('\\\\files\\\\','\\\\json\\\\') + \".capa.json\", \"w\", encoding=\"utf-8\") as outfile:\n",
    "        outfile.writelines(capa_result.stdout.decode('utf-8'))"
   ]
  },
  {
   "cell_type": "code",
   "execution_count": null,
   "id": "d67a7791-931c-4f8f-8878-a868ca8bc3cf",
   "metadata": {},
   "outputs": [],
   "source": [
    "# Ensure there is a directory for Ghidra projects\n",
    "if not Path(\"C:/Users/WDAGUtilityAccount/Ghidra\").is_dir():\n",
    "    Path(\"C:/Users/WDAGUtilityAccount/Ghidra\").mkdir()"
   ]
  },
  {
   "cell_type": "code",
   "execution_count": null,
   "id": "95cb4092-ef54-49ef-9b23-edff616a2d86",
   "metadata": {},
   "outputs": [],
   "source": [
    "# Import suspicious file to Ghidra in headless mode and then start Ghidra with the investigation project\n",
    "for suspicious_file in Path(\"C:/Users/WDAGUtilityAccount/Desktop/Investigations/files/\").glob(\"*.*\"):\n",
    "    result_import = subprocess.run(\n",
    "        [\n",
    "            \"C:/Tools/ghidra/support/analyzeHeadless\",\n",
    "            \"C:/Users/WDAGUtilityAccount/Ghidra\",\n",
    "            \"investigation\",\n",
    "            \"-import\", suspicious_file\n",
    "        ],\n",
    "        shell=True, check=True\n",
    "    )\n",
    "    result_run = subprocess.run(\n",
    "        [\n",
    "            \"C:\\Tools\\ghidra\\ghidraRun.bat\",\n",
    "            \"C:/Users/WDAGUtilityAccount/Ghidra/investigation.gpr\"\n",
    "        ],\n",
    "        shell=True, check=True\n",
    "    )"
   ]
  }
 ],
 "metadata": {
  "kernelspec": {
   "display_name": "Python 3 (ipykernel)",
   "language": "python",
   "name": "python3"
  },
  "language_info": {
   "codemirror_mode": {
    "name": "ipython",
    "version": 3
   },
   "file_extension": ".py",
   "mimetype": "text/x-python",
   "name": "python",
   "nbconvert_exporter": "python",
   "pygments_lexer": "ipython3",
   "version": "3.11.6"
  }
 },
 "nbformat": 4,
 "nbformat_minor": 5
}

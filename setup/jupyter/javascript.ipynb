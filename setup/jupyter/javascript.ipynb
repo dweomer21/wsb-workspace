{
 "cells": [
  {
   "cell_type": "markdown",
   "id": "f4b3a44b-e06a-4bae-8714-47b1fb79a560",
   "metadata": {},
   "source": [
    "# Analyze Javascript\n",
    "\n",
    "This notebook helps with investigations of Javascript files."
   ]
  },
  {
   "cell_type": "code",
   "execution_count": null,
   "id": "f7178a76-3a8d-42db-8c04-f664fa7103d9",
   "metadata": {
    "jupyter": {
     "source_hidden": true
    }
   },
   "outputs": [],
   "source": [
    "# imports\n",
    "import shutil\n",
    "import subprocess\n",
    "from pathlib import Path"
   ]
  },
  {
   "cell_type": "code",
   "execution_count": null,
   "id": "44d6e784-8dc2-4b79-be6d-b8fb8ade752e",
   "metadata": {
    "jupyter": {
     "source_hidden": true
    }
   },
   "outputs": [],
   "source": [
    "# Prepare files\n",
    "malware_dir = 'C:/Users/WDAGUtilityAccount/Desktop/javascript/'\n",
    "if not Path(malware_dir).is_dir():\n",
    "    Path(malware_dir).mkdir()\n",
    "for js in Path('C:/Users/WDAGUtilityAccount/Desktop/readonly').glob('*.js'):\n",
    "    if not Path(malware_dir + js.stem).is_file():\n",
    "        src = str(js)\n",
    "        dst = malware_dir + js.name\n",
    "        shutil.copy(src, dst)"
   ]
  },
  {
   "cell_type": "code",
   "execution_count": null,
   "id": "788c9cfb-32ad-493e-822b-116e345e1c59",
   "metadata": {
    "jupyter": {
     "source_hidden": true
    }
   },
   "outputs": [],
   "source": [
    "# Clean javascript files with synchrony and js-beautify\n",
    "for js in Path(malware_dir).glob('*.js'):\n",
    "    print(100*\"#\")\n",
    "    print(\"Analyzing file:\", js)\n",
    "    print(100*\"#\")\n",
    "    print(\"\")\n",
    "    if js.name.find('cleaned') != -1:\n",
    "        print(\"synchrony has been run already - to rerun remove the cleaned file\")\n",
    "    else:\n",
    "        print(\"synchrony - stdout and stderr\")\n",
    "        result = subprocess.run([\"C:/Windows/System32/WindowsPowerShell/v1.0/powershell.exe\", \"C:/Tools/node/synchrony.ps1\", js], capture_output=True, shell=True)\n",
    "        print(result.stdout.decode(\"utf-8\", errors='backslashreplace'))\n",
    "        print(result.stderr.decode(\"utf-8\", errors='backslashreplace'))\n",
    "        print(\"Cleaned file:\")\n",
    "        print(\"\")\n",
    "    try:\n",
    "        with open(malware_dir + js.stem + '.cleaned.js') as reader:\n",
    "            for line in reader.readlines():\n",
    "                print(line)\n",
    "    except:\n",
    "        print(\"Error: No such file: \", malware_dir + js.stem + '.cleaned.js')\n",
    "    print(\"\")\n",
    "    print (100*\"#\")\n",
    "    print(\"js-beautify.exe output for\", js)\n",
    "    print(\"\")\n",
    "    result = subprocess.run([\"C:/venv/default/scripts/js-beautify.exe\", js], capture_output=True, shell=True)\n",
    "    print(result.stdout.decode(\"utf-8\", errors='backslashreplace'))\n",
    "    print(result.stderr.decode(\"utf-8\", errors='backslashreplace'))\n",
    "    print(\"\")"
   ]
  }
 ],
 "metadata": {
  "kernelspec": {
   "display_name": "Python 3 (ipykernel)",
   "language": "python",
   "name": "python3"
  },
  "language_info": {
   "codemirror_mode": {
    "name": "ipython",
    "version": 3
   },
   "file_extension": ".py",
   "mimetype": "text/x-python",
   "name": "python",
   "nbconvert_exporter": "python",
   "pygments_lexer": "ipython3",
   "version": "3.11.6"
  }
 },
 "nbformat": 4,
 "nbformat_minor": 5
}

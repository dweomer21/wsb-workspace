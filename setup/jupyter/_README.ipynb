{
 "cells": [
  {
   "cell_type": "markdown",
   "id": "fa76bd38-b30c-4ac7-a61b-7e510d6b9419",
   "metadata": {},
   "source": [
    "# Notebooks\n",
    "\n",
    "The following notebooks are available at the moment.\n",
    "\n",
    "- Javascript\n",
    "- PDF\n",
    "- PE - Ghidra - capa\n"
   ]
  },
  {
   "cell_type": "code",
   "execution_count": null,
   "id": "374dbb12-926b-4430-8120-5ec6a67f0939",
   "metadata": {},
   "outputs": [],
   "source": []
  }
 ],
 "metadata": {
  "kernelspec": {
   "display_name": "Python 3 (ipykernel)",
   "language": "python",
   "name": "python3"
  },
  "language_info": {
   "codemirror_mode": {
    "name": "ipython",
    "version": 3
   },
   "file_extension": ".py",
   "mimetype": "text/x-python",
   "name": "python",
   "nbconvert_exporter": "python",
   "pygments_lexer": "ipython3",
   "version": "3.11.6"
  }
 },
 "nbformat": 4,
 "nbformat_minor": 5
}
